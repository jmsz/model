{
 "cells": [
  {
   "cell_type": "code",
   "execution_count": 10,
   "metadata": {},
   "outputs": [
    {
     "name": "stdout",
     "output_type": "stream",
     "text": [
      "[]\n"
     ]
    },
    {
     "name": "stderr",
     "output_type": "stream",
     "text": [
      "/usr/local/lib/python2.7/site-packages/ipykernel_launcher.py:16: DeprecationWarning: object of type <type 'float'> cannot be safely interpreted as an integer.\n",
      "  app.launch_new_instance()\n",
      "/usr/local/lib/python2.7/site-packages/ipykernel_launcher.py:17: DeprecationWarning: object of type <type 'float'> cannot be safely interpreted as an integer.\n"
     ]
    }
   ],
   "source": [
    "from __future__ import print_function\n",
    "from __future__ import division\n",
    "import sys\n",
    "import os\n",
    "import numpy as np\n",
    "import matplotlib\n",
    "\n",
    "x_step = 0.1 #mm\n",
    "z_step = 0.1 #mm\n",
    "x_range = 20.0 #2 cm\n",
    "z_range = 50.0 #5 cm\n",
    "\n",
    "iterations = 100000 #100k\n",
    "x_values = []\n",
    "z_values = []\n",
    "x_values = np.linspace((-x_range/2),(x_range /2),x_step)\n",
    "z_values = np.linspace((-z_range/2),(z_range /2), z_step)\n",
    "\n",
    "detector_array = np.zeros((len(x_values),len(z_values)), dtype=np.float)\n",
    "print(detector_array)"
   ]
  },
  {
   "cell_type": "code",
   "execution_count": null,
   "metadata": {
    "collapsed": true
   },
   "outputs": [],
   "source": []
  }
 ],
 "metadata": {
  "kernelspec": {
   "display_name": "Python 2",
   "language": "python",
   "name": "python2"
  },
  "language_info": {
   "codemirror_mode": {
    "name": "ipython",
    "version": 2
   },
   "file_extension": ".py",
   "mimetype": "text/x-python",
   "name": "python",
   "nbconvert_exporter": "python",
   "pygments_lexer": "ipython2",
   "version": "2.7.13"
  }
 },
 "nbformat": 4,
 "nbformat_minor": 2
}
