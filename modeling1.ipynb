{
 "cells": [
  {
   "cell_type": "code",
   "execution_count": 184,
   "metadata": {
    "collapsed": true
   },
   "outputs": [],
   "source": [
    "from __future__ import print_function\n",
    "from __future__ import division\n",
    "import sys\n",
    "import os\n",
    "import numpy as np\n",
    "import matplotlib.pyplot as plt\n",
    "import matplotlib\n",
    "import pandas as pd\n",
    "\n",
    "# parameters\n",
    "\n",
    "strip_width = 1# mm\n",
    "max_iterations = 8000 # 10k\n",
    "plot_progress = 0\n",
    "\n",
    "# geometry\n",
    "\n",
    "x_step = 0.1*strip_width # mm\n",
    "z_step = x_step # mm\n",
    "x_range = strip_width*4 #\n",
    "z_range = 16 # mm\n",
    "#x_range = 0.1\n",
    "#z_range  = 0.1\n",
    "\n"
   ]
  },
  {
   "cell_type": "code",
   "execution_count": 185,
   "metadata": {
    "collapsed": true
   },
   "outputs": [],
   "source": [
    "x_values = np.linspace((-x_range), (x_range), int(2*x_range/x_step))\n",
    "z_values = np.linspace(0,(z_range), int(2*z_range/z_step))\n",
    "\n",
    "#x_range = 1\n",
    "#z_range = 1\n",
    "#x_values = np.linspace((-x_range), (x_range), 6)\n",
    "#z_values = np.linspace((-z_range),(z_range), 6)\n",
    "\n",
    "#detector_array = np.zeros((len(x_values),len(z_values)), dtype=np.float)\n",
    "detector_array  = [[0 for x in range(len(x_values))] for z in range(len(z_values))] \n",
    "detector_array  = np.zeros((len(x_values),len(z_values)))\n",
    "#print(detector_array)\n"
   ]
  },
  {
   "cell_type": "code",
   "execution_count": 186,
   "metadata": {
    "collapsed": true
   },
   "outputs": [],
   "source": [
    "# strip edges\n",
    "high_edge = 0\n",
    "low_edge = 0\n",
    "high = []\n",
    "low = []\n",
    "\n",
    "#print(x_values)\n",
    "#print(z_values)\n",
    "\n",
    "for x_value in x_values:\n",
    "    if float(x_value) >= float(strip_width/2):\n",
    "        high.append(x_value)\n",
    "    if float(x_value) <= float(-strip_width/2):\n",
    "        low.append(x_value)"
   ]
  },
  {
   "cell_type": "code",
   "execution_count": 187,
   "metadata": {},
   "outputs": [
    {
     "name": "stdout",
     "output_type": "stream",
     "text": [
      "45\n",
      "34\n"
     ]
    }
   ],
   "source": [
    "high_strip_edge = min(high)\n",
    "low_strip_edge = max(low)\n",
    "high_index = np.where(x_values == high_strip_edge)\n",
    "low_index = np.where(x_values == low_strip_edge)\n",
    "#x_values = []\n",
    "#x_values = np.linspace((-x_range), (x_range), (4*x_range/x_step))\n",
    "#high_index = x_values.index(high_strip_edge)\n",
    "#low_index = x_values.index(low_strip_edge)\n",
    "high_index = int(high_index[0][0])\n",
    "low_index = int(low_index[0][0])\n",
    "#low_index  = low_index + 1\n",
    "print(high_index)\n",
    "print(low_index)"
   ]
  },
  {
   "cell_type": "code",
   "execution_count": 188,
   "metadata": {},
   "outputs": [
    {
     "name": "stdout",
     "output_type": "stream",
     "text": [
      "[[[ 0.  0.  0. ...,  0.  0.  0.]\n",
      "  [ 0.  0.  0. ...,  0.  0.  0.]\n",
      "  [ 0.  0.  0. ...,  0.  0.  0.]\n",
      "  ..., \n",
      "  [ 0.  0.  0. ...,  0.  0.  0.]\n",
      "  [ 0.  0.  0. ...,  0.  0.  0.]\n",
      "  [ 0.  0.  0. ...,  0.  0.  0.]]\n",
      "\n",
      " [[ 0.  0.  0. ...,  0.  0.  0.]\n",
      "  [ 0.  0.  0. ...,  0.  0.  0.]\n",
      "  [ 0.  0.  0. ...,  0.  0.  0.]\n",
      "  ..., \n",
      "  [ 0.  0.  0. ...,  0.  0.  0.]\n",
      "  [ 0.  0.  0. ...,  0.  0.  0.]\n",
      "  [ 0.  0.  0. ...,  0.  0.  0.]]]\n"
     ]
    }
   ],
   "source": [
    "# ?????????????????????????????????\n",
    "max_x = len(x_values)\n",
    "#min_x = min(x_values)\n",
    "max_z = len(z_values)\n",
    "#min_z = min(z_values)\n",
    "\n",
    "# boundary conditions\n",
    "old = 1\n",
    "new = 0\n",
    "##wp = [[[0 for z in range(2)] for x in range(max_x)] for z in range(max_z)]\n",
    "#print(wp)\n",
    "wp = np.zeros((2, len(x_values), len(z_values)))\n",
    "#wp[:,:,:] =3\n",
    "wp[0,max_x - 1 ,] = 0\n",
    "wp[1,max_x - 1 ,] = 0\n",
    "wp[1,0,] = 0\n",
    "wp[0,0,] = 0\n",
    "\n",
    "wp[0,low_index:(high_index+1),len(z_values) - 1] = 1 #high index +1 TODO\n",
    "wp[1,low_index:(high_index+1),len(z_values) - 1] = 1\n",
    "wp[0,:,0] = 0\n",
    "wp[1,:,0] = 0\n",
    "\n",
    "#wp[0:0, low_index:] = 0 \n",
    "#wp[0:high_index, :] = 0\n",
    "#wp[1:0, low_index:] = 0\n",
    "#wp[1:high_index, :] = 0\n",
    "print(wp)"
   ]
  },
  {
   "cell_type": "code",
   "execution_count": 189,
   "metadata": {},
   "outputs": [
    {
     "name": "stdout",
     "output_type": "stream",
     "text": [
      "[[[  0.00000000e+00   0.00000000e+00   0.00000000e+00 ...,   0.00000000e+00\n",
      "     0.00000000e+00   0.00000000e+00]\n",
      "  [  0.00000000e+00   3.90625000e-05   7.81250000e-05 ...,   1.23828125e-02\n",
      "     1.24218750e-02   0.00000000e+00]\n",
      "  [  0.00000000e+00   7.81250000e-05   1.56250000e-04 ...,   2.47656250e-02\n",
      "     2.48437500e-02   0.00000000e+00]\n",
      "  ..., \n",
      "  [  0.00000000e+00   3.00781250e-03   6.01562500e-03 ...,   9.53476563e-01\n",
      "     9.56484375e-01   0.00000000e+00]\n",
      "  [  0.00000000e+00   3.04687500e-03   6.09375000e-03 ...,   9.65859375e-01\n",
      "     9.68906250e-01   0.00000000e+00]\n",
      "  [  0.00000000e+00   0.00000000e+00   0.00000000e+00 ...,   0.00000000e+00\n",
      "     0.00000000e+00   0.00000000e+00]]\n",
      "\n",
      " [[  0.00000000e+00   0.00000000e+00   0.00000000e+00 ...,   0.00000000e+00\n",
      "     0.00000000e+00   0.00000000e+00]\n",
      "  [  0.00000000e+00   0.00000000e+00   0.00000000e+00 ...,   0.00000000e+00\n",
      "     0.00000000e+00   0.00000000e+00]\n",
      "  [  0.00000000e+00   0.00000000e+00   0.00000000e+00 ...,   0.00000000e+00\n",
      "     0.00000000e+00   0.00000000e+00]\n",
      "  ..., \n",
      "  [  0.00000000e+00   0.00000000e+00   0.00000000e+00 ...,   0.00000000e+00\n",
      "     0.00000000e+00   0.00000000e+00]\n",
      "  [  0.00000000e+00   0.00000000e+00   0.00000000e+00 ...,   0.00000000e+00\n",
      "     0.00000000e+00   0.00000000e+00]\n",
      "  [  0.00000000e+00   0.00000000e+00   0.00000000e+00 ...,   0.00000000e+00\n",
      "     0.00000000e+00   0.00000000e+00]]]\n"
     ]
    }
   ],
   "source": [
    "for x in range(1, (max_x - 1)):\n",
    "    for z in range(1, (max_z - 1)):\n",
    "        wp[0,x,z] = 1.0 * abs(z/max_z) * abs(x/max_x)\n",
    "        \n",
    "print(wp)"
   ]
  },
  {
   "cell_type": "code",
   "execution_count": 190,
   "metadata": {},
   "outputs": [
    {
     "name": "stdout",
     "output_type": "stream",
     "text": [
      "Calculating Weighting Potential via Relaxation....\n",
      "DONE\n",
      "[[  0.00000000e+00   0.00000000e+00   0.00000000e+00 ...,   0.00000000e+00\n",
      "    0.00000000e+00   0.00000000e+00]\n",
      " [  0.00000000e+00   3.30287628e-06   6.60575239e-06 ...,   5.20596608e-04\n",
      "    2.61369659e-04   0.00000000e+00]\n",
      " [  0.00000000e+00   6.60053122e-06   1.32010621e-05 ...,   1.04539781e-03\n",
      "    5.24864521e-04   0.00000000e+00]\n",
      " ..., \n",
      " [  0.00000000e+00   6.60152418e-06   1.32030480e-05 ...,   1.04540381e-03\n",
      "    5.24867519e-04   0.00000000e+00]\n",
      " [  0.00000000e+00   3.30337434e-06   6.60674850e-06 ...,   5.20599615e-04\n",
      "    2.61371165e-04   0.00000000e+00]\n",
      " [  0.00000000e+00   0.00000000e+00   0.00000000e+00 ...,   0.00000000e+00\n",
      "    0.00000000e+00   0.00000000e+00]]\n"
     ]
    }
   ],
   "source": [
    "print(\"Calculating Weighting Potential via Relaxation....\")\n",
    "dif_store = np.zeros((max_iterations))\n",
    "\n",
    "for iter in range(0,max_iterations):\n",
    "    if (old == 0):\n",
    "        old = 1\n",
    "        new = 0\n",
    "    else:\n",
    "        old = 0\n",
    "        new = 1\n",
    "        \n",
    "    sum_dif = 0\n",
    "    max_dif = 0\n",
    "\n",
    "    # reflection symm\n",
    "    ## w(1,end,:) = w(1,end-1,:); ??\n",
    "\n",
    "    # loop over internal points of detector grid\n",
    "    for z in range(1, wp.shape[2] - 1): # X and Y ????\n",
    "        #print (x)\n",
    "        for x in range(1, wp.shape[1]-1):\n",
    "            #print(y)\n",
    "           \n",
    "            # new value is average over neigbouring pixels\n",
    "            wp[new,x,z] = (wp[old,x+1,z] + wp[old,x-1,z] + wp[old,x,z+1] + wp[old,x,z-1]) / 4\n",
    "        \n",
    "            # difference in solution between iterations\n",
    "            dif = wp[old,x,z] - wp[new,x,z]\n",
    "            if (dif < 0.0):\n",
    "                dif = -dif\n",
    "            sum_dif = sum_dif +  dif\n",
    "            if (max_dif < dif):\n",
    "                max_dif = dif\n",
    "\n",
    "    # check for convergence\n",
    "    if (max_dif < 1e-12):\n",
    "        print(\"Solution may have converged...\")\n",
    "        continue\n",
    "        #return\n",
    "    \n",
    "    # store difference vs. iteration\n",
    "    dif_store[iter] = sum_dif\n",
    "    \n",
    "    # plot intermediate results\n",
    "    if (plot_progress == 1):\n",
    "        if ((iter%100) == 0):\n",
    "            print(iter)\n",
    "            print(sum_dif)\n",
    "            plt.subplot(1,2,1)\n",
    "            contour(np.squeeze(wp[old,:,:]),20)\n",
    "            plt.subplot(1,2,2)\n",
    "            contour(np.squeeze(wp[new,:,:]),20)\n",
    "\n",
    "# get final result\n",
    "WPout = np.squeeze(wp[0,:,0:max_z]); ##max_z bit\n",
    "\n",
    "print(\"DONE\")\n",
    "print(WPout)"
   ]
  },
  {
   "cell_type": "code",
   "execution_count": 203,
   "metadata": {},
   "outputs": [
    {
     "name": "stdout",
     "output_type": "stream",
     "text": [
      "80\n",
      "320\n",
      "[[  0.00000000e+00   0.00000000e+00   0.00000000e+00 ...,   0.00000000e+00\n",
      "    0.00000000e+00   0.00000000e+00]\n",
      " [  0.00000000e+00   3.30287628e-06   6.60575239e-06 ...,   5.20596608e-04\n",
      "    2.61369659e-04   0.00000000e+00]\n",
      " [  0.00000000e+00   6.60053122e-06   1.32010621e-05 ...,   1.04539781e-03\n",
      "    5.24864521e-04   0.00000000e+00]\n",
      " ..., \n",
      " [  0.00000000e+00   6.60152418e-06   1.32030480e-05 ...,   1.04540381e-03\n",
      "    5.24867519e-04   0.00000000e+00]\n",
      " [  0.00000000e+00   3.30337434e-06   6.60674850e-06 ...,   5.20599615e-04\n",
      "    2.61371165e-04   0.00000000e+00]\n",
      " [  0.00000000e+00   0.00000000e+00   0.00000000e+00 ...,   0.00000000e+00\n",
      "    0.00000000e+00   0.00000000e+00]]\n",
      "80\n",
      "320\n"
     ]
    },
    {
     "data": {
      "text/plain": [
       "[<matplotlib.lines.Line2D at 0x1132d0390>]"
      ]
     },
     "execution_count": 203,
     "metadata": {},
     "output_type": "execute_result"
    }
   ],
   "source": [
    "#plo\n",
    "print(len(x_values))\n",
    "print(len(z_values))\n",
    "print(WPout)\n",
    "\n",
    "print((WPout.shape[0]))\n",
    "print((WPout.shape[1]))\n",
    "\n",
    "plt.cla() \n",
    "plt.clf() \n",
    "\n",
    "#plt.style.use('seaborn-white')\n",
    "\n",
    "fig = plt.figure(figsize=(10, 5))\n",
    "ax = fig.add_subplot(111)\n",
    "ax.yaxis.tick_right()\n",
    "#plt.contour(z_values,20)\n",
    "###plt.contour(z_values, x_values, WPout, 50)\n",
    "\n",
    "\n",
    "#plt.plot(z_values, WPout[0])\n",
    "contours = plt.contour(z_values, x_values, WPout, 20, cmap='winter')\n",
    "#plt.clabel(contours, inline=True, fontsize=8)\n",
    "\n",
    "#CS = plt.contourf(X, Y, Z, 10, cmap=plt.cm.bone, origin=origin)\n",
    "\n",
    "#plt.imshow(z_values, origin='lower', cmap='RdGy')\n",
    "plt.colorbar();\n",
    "\n",
    "ax.set_xlim(13,16)\n",
    "\n",
    "plt.figure(figsize=(10, 5))\n",
    "plt.semilogy(dif_store,'b.-')\n"
   ]
  },
  {
   "cell_type": "code",
   "execution_count": 204,
   "metadata": {},
   "outputs": [
    {
     "data": {
      "text/plain": [
       "<matplotlib.figure.Figure at 0x112e10b50>"
      ]
     },
     "metadata": {},
     "output_type": "display_data"
    },
    {
     "data": {
      "image/png": "[encoded data removed]",
      "text/plain": [
       "<matplotlib.figure.Figure at 0x110bec090>"
      ]
     },
     "metadata": {},
     "output_type": "display_data"
    },
    {
     "data": {
      "image/png": "[encoded data removed]",
      "text/plain": [
       "<matplotlib.figure.Figure at 0x1132a21d0>"
      ]
     },
     "metadata": {},
     "output_type": "display_data"
    }
   ],
   "source": [
    "plt.show()"
   ]
  },
  {
   "cell_type": "code",
   "execution_count": null,
   "metadata": {
    "collapsed": true
   },
   "outputs": [],
   "source": []
  },
  {
   "cell_type": "code",
   "execution_count": null,
   "metadata": {
    "collapsed": true
   },
   "outputs": [],
   "source": []
  },
  {
   "cell_type": "code",
   "execution_count": null,
   "metadata": {
    "collapsed": true
   },
   "outputs": [],
   "source": []
  }
 ],
 "metadata": {
  "kernelspec": {
   "display_name": "Python 2",
   "language": "python",
   "name": "python2"
  },
  "language_info": {
   "codemirror_mode": {
    "name": "ipython",
    "version": 2
   },
   "file_extension": ".py",
   "mimetype": "text/x-python",
   "name": "python",
   "nbconvert_exporter": "python",
   "pygments_lexer": "ipython2",
   "version": "2.7.13"
  }
 },
 "nbformat": 4,
 "nbformat_minor": 2
}
