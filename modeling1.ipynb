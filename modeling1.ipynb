{
 "cells": [
  {
   "cell_type": "code",
   "execution_count": 10,
   "metadata": {},
   "outputs": [],
   "source": [
    "from __future__ import print_function\n",
    "from __future__ import division\n",
    "import sys\n",
    "import os\n",
    "import numpy as np\n",
    "import matplotlib.pyplot as plt\n",
    "import matplotlib\n",
    "import pandas as pd\n",
    "\n",
    "# parameters\n",
    "\n",
    "strip_width = 0.1 # mm\n",
    "max_iterations = 10000 # 10k\n",
    "plot_progress = 0\n",
    "\n",
    "# geometry\n",
    "\n",
    "x_step = 0.1*strip_width # mm\n",
    "z_step = x_step # mm\n",
    "x_range = strip_width*2 # 2 cm\n",
    "z_range = x_range # 5 cm\n",
    "#x_range = 0.1\n",
    "#z_range  = 0.1\n",
    "\n"
   ]
  },
  {
   "cell_type": "code",
   "execution_count": 11,
   "metadata": {},
   "outputs": [],
   "source": [
    "x_values = np.linspace((-x_range), (x_range), int(2*x_range/x_step))\n",
    "z_values = np.linspace((-z_range),(z_range), int(2*z_range/z_step))\n",
    "\n",
    "#detector_array = np.zeros((len(x_values),len(z_values)), dtype=np.float)\n",
    "detector_array  = [[0 for x in range(len(x_values))] for z in range(len(z_values))] \n",
    "detector_array  = np.zeros((len(x_values),len(z_values)))\n",
    "#print(detector_array)\n"
   ]
  },
  {
   "cell_type": "code",
   "execution_count": 12,
   "metadata": {
    "collapsed": true
   },
   "outputs": [],
   "source": [
    "# strip edges\n",
    "high_edge = 0\n",
    "low_edge = 0\n",
    "high = []\n",
    "low = []\n",
    "\n",
    "#print(x_values)\n",
    "#print(z_values)\n",
    "\n",
    "for x_value in x_values:\n",
    "    if float(x_value) >= float(strip_width/2):\n",
    "        high.append(x_value)\n",
    "    if float(x_value) <= float(-strip_width/2):\n",
    "        low.append(x_value)"
   ]
  },
  {
   "cell_type": "code",
   "execution_count": 13,
   "metadata": {},
   "outputs": [
    {
     "name": "stdout",
     "output_type": "stream",
     "text": [
      "24\n",
      "14\n"
     ]
    }
   ],
   "source": [
    "high_strip_edge = min(high)\n",
    "low_strip_edge = max(low)\n",
    "high_index = np.where(x_values == high_strip_edge)\n",
    "low_index = np.where(x_values == low_strip_edge)\n",
    "#x_values = []\n",
    "#x_values = np.linspace((-x_range), (x_range), (4*x_range/x_step))\n",
    "#high_index = x_values.index(high_strip_edge)\n",
    "#low_index = x_values.index(low_strip_edge)\n",
    "high_index = int(high_index[0][0])\n",
    "low_index = int(low_index[0][0])\n",
    "print(high_index)\n",
    "print(low_index)"
   ]
  },
  {
   "cell_type": "code",
   "execution_count": 14,
   "metadata": {},
   "outputs": [],
   "source": [
    "# ?????????????????????????????????\n",
    "\n",
    "max_x = len(x_values) \n",
    "#min_x = min(x_values)\n",
    "max_z = len(z_values)\n",
    "#min_z = min(z_values)\n",
    "\n",
    "# boundary conditions\n",
    "\n",
    "old = 1\n",
    "new = 0\n",
    "\n",
    "##wp = [[[0 for z in range(2)] for x in range(max_x)] for z in range(max_z)]\n",
    "#print(wp)\n",
    "wp = np.zeros((2, len(x_values), len(z_values)))\n",
    "wp[0,low_index:high_index,0] = 1\n",
    "wp[1,low_index:high_index,0] = 1\n",
    "#wp[0:0, low_index:] = 0 \n",
    "#wp[0:high_index, :] = 0\n",
    "#wp[1:0, low_index:] = 0\n",
    "#wp[1:high_index, :] = 0\n",
    "#print(wp)"
   ]
  },
  {
   "cell_type": "code",
   "execution_count": 15,
   "metadata": {},
   "outputs": [],
   "source": [
    "for x in range(1, (max_x - 1)):\n",
    "    for z in range(1, (max_z - 1)):\n",
    "        wp[1,x,z] = 1.0 * z/max_z * x/max_x\n",
    "        \n",
    "#print(wp)"
   ]
  },
  {
   "cell_type": "code",
   "execution_count": 16,
   "metadata": {},
   "outputs": [
    {
     "name": "stdout",
     "output_type": "stream",
     "text": [
      "Calculating Weighting Potential via Relaxation....\n",
      "[ 0.  0.  0. ...,  0.  0.  0.]\n",
      "DONE\n"
     ]
    }
   ],
   "source": [
    "print(\"Calculating Weighting Potential via Relaxation....\")\n",
    "dif_store = np.zeros((max_iterations))\n",
    "print(dif_store)\n",
    "for iter in range(0,max_iterations):\n",
    "    if (old == 0):\n",
    "        old = 1\n",
    "        new = 0\n",
    "    else:\n",
    "        old = 0\n",
    "        new = 1\n",
    "        \n",
    "    sum_dif = 0\n",
    "    max_dif = 0\n",
    "\n",
    "    # reflection symm\n",
    "    ## w(1,end,:) = w(1,end-1,:); ??\n",
    "\n",
    "    # loop over internal points of detector grid\n",
    "    for z in range(0, wp.shape[2] - 2): # X and Y ????\n",
    "        #print (x)\n",
    "        for x in range(0, wp.shape[1]-2):\n",
    "            #print(y)\n",
    "           \n",
    "            # new value is average over neigbouring pixels\n",
    "            wp[new,x,z] = (wp[old,x+1,z] + wp[old,x-1,z] + wp[old,x,z+1] + wp[old,x,z-1]) / 4\n",
    "        \n",
    "            # difference in solution between iterations\n",
    "            dif = wp[old,x,z] - wp[new,x,z]\n",
    "            if (dif < 0.0):\n",
    "                dif = -dif\n",
    "            sum_dif = sum_dif +  dif\n",
    "            if (max_dif < dif):\n",
    "                max_dif = dif\n",
    "\n",
    "    # check for convergence\n",
    "    if (max_dif < 1e-12):\n",
    "        print(\"Solution may have converged...\")\n",
    "        #return 1\n",
    "    \n",
    "    # store difference vs. iteration\n",
    "    dif_store[iter] = sum_dif\n",
    "    \n",
    "    # plot intermediate results\n",
    "    if (plot_progress == 1):\n",
    "        if ((iter%100) == 0):\n",
    "            print(iter)\n",
    "            print(sum_dif)\n",
    "            plt.subplot(1,2,1)\n",
    "            contour(np.squeeze(wp[old,:,:]),20)\n",
    "            plt.subplot(1,2,2)\n",
    "            contour(np.squeeze(wp[new,:,:]),20)\n",
    "\n",
    "# get final result\n",
    "WPout = np.squeeze(wp[0,:,0:max_z]); ##max_z bit\n",
    "\n",
    "print(\"DONE\")"
   ]
  },
  {
   "cell_type": "code",
   "execution_count": 17,
   "metadata": {},
   "outputs": [
    {
     "name": "stdout",
     "output_type": "stream",
     "text": [
      "39\n",
      "39\n",
      "[[  3.02013834e-04   6.02495191e-04   9.06040186e-04 ...,   5.09100600e-03\n",
      "    0.00000000e+00   0.00000000e+00]\n",
      " [  6.02495191e-04   1.20805665e-03   1.80748801e-03 ...,   1.75336632e-02\n",
      "    0.00000000e+00   0.00000000e+00]\n",
      " [  9.06040186e-04   1.80748801e-03   2.71813766e-03 ...,   2.99828208e-02\n",
      "    0.00000000e+00   0.00000000e+00]\n",
      " ..., \n",
      " [  5.09100600e-03   1.75336632e-02   2.99828208e-02 ...,   6.25970818e-01\n",
      "    0.00000000e+00   0.00000000e+00]\n",
      " [  0.00000000e+00   0.00000000e+00   0.00000000e+00 ...,   0.00000000e+00\n",
      "    0.00000000e+00   0.00000000e+00]\n",
      " [  0.00000000e+00   0.00000000e+00   0.00000000e+00 ...,   0.00000000e+00\n",
      "    0.00000000e+00   0.00000000e+00]]\n",
      "39\n",
      "39\n"
     ]
    },
    {
     "data": {
      "text/plain": [
       "[<matplotlib.lines.Line2D at 0x109a27f10>]"
      ]
     },
     "execution_count": 17,
     "metadata": {},
     "output_type": "execute_result"
    }
   ],
   "source": [
    "#plot\n",
    "print(len(x_values))\n",
    "print(len(z_values))\n",
    "print(WPout)\n",
    "\n",
    "print((WPout.shape[0]))\n",
    "print((WPout.shape[1]))\n",
    "\n",
    "plt.cla() \n",
    "plt.clf() \n",
    "\n",
    "plt.figure(figsize=(10, 5))\n",
    "plt.contour(z_values, x_values, WPout)\n",
    "# colorbar ??\n",
    "#grid on;\n",
    "#plt.xlabel('z (mm)', 'FontSize', 18)\n",
    "#plt.ylabel('x (mm)', 'FontSize', 18)\n",
    "# set(gca, 'FontSize', 16)\n",
    "\n",
    "plt.figure(figsize=(10, 5))\n",
    "plt.semilogy(dif_store,'b.-')\n",
    "#grid on;\n",
    "#plt.xlabel('Iteration Number', 'FontSize', 18)\n",
    "#plt.ylabel('Difference', 'FontSize', 18)\n",
    "#set(gca, 'FontSize', 16)\n",
    "\n",
    "#plt.figure(figsize=(10, 5))\n",
    "#plt.xticks(np.arange(0, 14, 0.1))\n",
    "#plt.axis([0, 3, 0, max(x_values_list)])\n",
    "#ax = plt.gca()\n",
    "#ax.grid(color='k', linestyle='-', linewidth=0.5)\n",
    "#ax.set_autoscale_on(False)\n",
    "\n",
    "#plt.semilogx(time_nano1, strip6_nano1_662, linestyle='-', marker = 'o', color='red', label = '662keV NanoMCA I')\n",
    "#plt.semilogx(time_nano2, strip6_nano2_662, linestyle='-', marker = 'o', color='blue', label = '662keV NanoMCA II')\n",
    "\n",
    "#plt.plot(rate_x_values, rate_y_values, 'g-', label = 'rate function')\n",
    "#plt.plot(x_values_rej, y_values_rej, 'ro', label = 'rejected')\n",
    "#plt.legend(loc='upper right', ncol=2)\n",
    "#plt.title('strip 6')\n",
    "#plt.xlabel('time (us)')\n",
    "#plt.ylabel('FWHM (keV)')\n",
    "#plt.show()"
   ]
  },
  {
   "cell_type": "code",
   "execution_count": 18,
   "metadata": {},
   "outputs": [
    {
     "data": {
      "text/plain": [
       "<matplotlib.figure.Figure at 0x109539610>"
      ]
     },
     "metadata": {},
     "output_type": "display_data"
    },
    {
     "data": {
      "image/png": "[encoded data removed]",
      "text/plain": [
       "<matplotlib.figure.Figure at 0x10980dc90>"
      ]
     },
     "metadata": {},
     "output_type": "display_data"
    },
    {
     "data": {
      "image/png": "[encoded data removed]",
      "text/plain": [
       "<matplotlib.figure.Figure at 0x1099a9450>"
      ]
     },
     "metadata": {},
     "output_type": "display_data"
    }
   ],
   "source": [
    "plt.show()"
   ]
  },
  {
   "cell_type": "code",
   "execution_count": null,
   "metadata": {
    "collapsed": true
   },
   "outputs": [],
   "source": []
  }
 ],
 "metadata": {
  "kernelspec": {
   "display_name": "Python 2",
   "language": "python",
   "name": "python2"
  },
  "language_info": {
   "codemirror_mode": {
    "name": "ipython",
    "version": 2
   },
   "file_extension": ".py",
   "mimetype": "text/x-python",
   "name": "python",
   "nbconvert_exporter": "python",
   "pygments_lexer": "ipython2",
   "version": "2.7.13"
  }
 },
 "nbformat": 4,
 "nbformat_minor": 2
}
